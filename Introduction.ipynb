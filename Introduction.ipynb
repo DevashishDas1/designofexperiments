{
 "cells": [
  {
   "cell_type": "markdown",
   "metadata": {},
   "source": [
    "# Linear regression analysis\n",
    "## Simple linear regression\n",
    "\n",
    "The following data was collected to study relationship betweeen breast cancer mortality and mean annual temperature."
   ]
  },
  {
   "cell_type": "code",
   "execution_count": 13,
   "metadata": {
    "collapsed": false
   },
   "outputs": [
    {
     "data": {
      "text/html": [
       "<table>\n",
       "<thead><tr><th scope=col>mortality</th><th scope=col>temperature</th></tr></thead>\n",
       "<tbody>\n",
       "\t<tr><td>102.5</td><td>51.3 </td></tr>\n",
       "\t<tr><td>104.5</td><td>49.9 </td></tr>\n",
       "\t<tr><td>100.4</td><td>50.0 </td></tr>\n",
       "\t<tr><td> 95.9</td><td>49.2 </td></tr>\n",
       "\t<tr><td> 87.0</td><td>48.5 </td></tr>\n",
       "\t<tr><td> 95.0</td><td>47.8 </td></tr>\n",
       "\t<tr><td> 88.6</td><td>47.3 </td></tr>\n",
       "\t<tr><td> 89.2</td><td>45.1 </td></tr>\n",
       "\t<tr><td> 78.9</td><td>46.3 </td></tr>\n",
       "\t<tr><td> 84.6</td><td>42.1 </td></tr>\n",
       "\t<tr><td> 81.7</td><td>44.2 </td></tr>\n",
       "\t<tr><td> 72.2</td><td>43.5 </td></tr>\n",
       "\t<tr><td> 65.1</td><td>42.3 </td></tr>\n",
       "\t<tr><td> 68.1</td><td>40.2 </td></tr>\n",
       "\t<tr><td> 67.3</td><td>31.8 </td></tr>\n",
       "\t<tr><td> 52.5</td><td>34.0 </td></tr>\n",
       "</tbody>\n",
       "</table>\n"
      ],
      "text/latex": [
       "\\begin{tabular}{r|ll}\n",
       " mortality & temperature\\\\\n",
       "\\hline\n",
       "\t 102.5 & 51.3 \\\\\n",
       "\t 104.5 & 49.9 \\\\\n",
       "\t 100.4 & 50.0 \\\\\n",
       "\t  95.9 & 49.2 \\\\\n",
       "\t  87.0 & 48.5 \\\\\n",
       "\t  95.0 & 47.8 \\\\\n",
       "\t  88.6 & 47.3 \\\\\n",
       "\t  89.2 & 45.1 \\\\\n",
       "\t  78.9 & 46.3 \\\\\n",
       "\t  84.6 & 42.1 \\\\\n",
       "\t  81.7 & 44.2 \\\\\n",
       "\t  72.2 & 43.5 \\\\\n",
       "\t  65.1 & 42.3 \\\\\n",
       "\t  68.1 & 40.2 \\\\\n",
       "\t  67.3 & 31.8 \\\\\n",
       "\t  52.5 & 34.0 \\\\\n",
       "\\end{tabular}\n"
      ],
      "text/plain": [
       "   mortality temperature\n",
       "1  102.5     51.3       \n",
       "2  104.5     49.9       \n",
       "3  100.4     50.0       \n",
       "4   95.9     49.2       \n",
       "5   87.0     48.5       \n",
       "6   95.0     47.8       \n",
       "7   88.6     47.3       \n",
       "8   89.2     45.1       \n",
       "9   78.9     46.3       \n",
       "10  84.6     42.1       \n",
       "11  81.7     44.2       \n",
       "12  72.2     43.5       \n",
       "13  65.1     42.3       \n",
       "14  68.1     40.2       \n",
       "15  67.3     31.8       \n",
       "16  52.5     34.0       "
      ]
     },
     "metadata": {},
     "output_type": "display_data"
    },
    {
     "data": {
      "image/png": "[encoded data removed]",
      "text/plain": [
       "plot without title"
      ]
     },
     "metadata": {},
     "output_type": "display_data"
    }
   ],
   "source": [
    "temp <- read.table(\"http://www2.isye.gatech.edu/~jeffwu/book/data/BreastCancerMortality.dat\")\n",
    "temp <- as.data.frame(t(temp))\n",
    "temp <- t(temp[-c(1,2,3),])\n",
    "row.names(temp) <- NULL\n",
    "BreastCancerMortality <- data.frame(\n",
    "    mortality = as.numeric(c(temp[1,], temp[3,])), \n",
    "    temperature = as.numeric(c(temp[2,], temp[4,]))\n",
    ")\n",
    "BreastCancerMortality\n",
    "plot(BreastCancerMortality$temperature, \n",
    "     BreastCancerMortality$mortality,\n",
    "    xlab = \"temperature\", \n",
    "     ylab = \"mortality\")"
   ]
  },
  {
   "cell_type": "markdown",
   "metadata": {},
   "source": [
    "Let us model mortality as the reponse variable $y$ and temperature as covariate $x$ and assume the following linear realtionship.\n",
    "\n",
    "$$ y_i = \\beta_0 + \\beta_1 x_i + \\epsilon_i \\quad i = 1,2,... N$$\n",
    "\n",
    "where $i$ denotes the $i$th observation. It is assumed that $\\epsilon_i ~ \\mathcal{N}(0,\\sigma^2)$.\n",
    "\n",
    "To estimate the model parameters $\\beta_0$ and $\\beta_1$ the least square criterion is used. Denote them as $\\hat{\\beta}_0$ and $\\hat{\\beta}_1$, that are obtained as follows:\n",
    "\n",
    "$$ \\hat{\\beta}_0, \\hat{\\beta}_1  = \\text{argmin}_{\\beta_0, \\beta_1} L(\\beta_0, \\beta_1)$$\n",
    "where,\n",
    "$$  L(\\beta_0, \\beta_1)  = \\sum_{i=1}^N (y_i -(\\beta_0 + \\beta_1 x_i))^2$$\n",
    "To minimize $L(\\beta_0,\\beta_1)$, its partial derivatives are taken and equated to zero.\n"
   ]
  },
  {
   "cell_type": "markdown",
   "metadata": {
    "collapsed": true
   },
   "source": [
    "Then, the following two equations are obtained:\n",
    "$$\\sum_i^N (y_i - \\hat{\\beta}_0 - \\beta_1 x_i) = 0$$\n",
    "$$\\sum_i^N (y_i - \\hat{\\beta}_0 - \\hat{\\beta}_1 x_i)x_i = 0\\;,$$\n",
    "which gives\n",
    "$$\\hat{\\beta}_1 = \\frac{\\sum_{i}^N(x_i - \\bar{x})(y_i - \\bar{y})}{\\sum_i^N (x_i - \\bar{x})^2}$$\n",
    "$$\\hat{\\beta}_0 = \\bar{y} - \\hat{\\beta}_1 \\bar{x}\\;.$$"
   ]
  },
  {
   "cell_type": "code",
   "execution_count": 15,
   "metadata": {
    "collapsed": false,
    "scrolled": true
   },
   "outputs": [
    {
     "data": {
      "text/plain": [
       "\n",
       "Call:\n",
       "lm(formula = mortality ~ temperature, data = BreastCancerMortality)\n",
       "\n",
       "Coefficients:\n",
       "(Intercept)  temperature  \n",
       "    -21.795        2.358  \n"
      ]
     },
     "metadata": {},
     "output_type": "display_data"
    },
    {
     "name": "stdout",
     "output_type": "stream",
     "text": [
      "[1] 2.357695\n",
      "[1] -21.79469\n"
     ]
    }
   ],
   "source": [
    "lm(mortality ~ temperature, data = BreastCancerMortality)\n",
    "# check the formulas\n",
    "x <- BreastCancerMortality$temperature\n",
    "y <- BreastCancerMortality$mortality\n",
    "\n",
    "# \\hat{\\beta}_1\n",
    "beta1 <- (sum((y - mean(y))*(x - mean(x)))/\n",
    "          sum((x - mean(x))^2))\n",
    "print(beta1)\n",
    "\n",
    "# \\hat{\\beta}_0\n",
    "beta0 <- mean(y) - beta1*mean(x)\n",
    "print(beta0)"
   ]
  },
  {
   "cell_type": "code",
   "execution_count": null,
   "metadata": {
    "collapsed": true
   },
   "outputs": [],
   "source": []
  }
 ],
 "metadata": {
  "kernelspec": {
   "display_name": "R",
   "language": "R",
   "name": "ir"
  },
  "language_info": {
   "codemirror_mode": "r",
   "file_extension": ".r",
   "mimetype": "text/x-r-source",
   "name": "R",
   "pygments_lexer": "r",
   "version": "3.3.2"
  }
 },
 "nbformat": 4,
 "nbformat_minor": 1
}
